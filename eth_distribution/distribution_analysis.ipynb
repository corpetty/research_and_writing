{
 "nbformat": 4,
 "nbformat_minor": 2,
 "metadata": {
  "language_info": {
   "name": "python",
   "codemirror_mode": {
    "name": "ipython",
    "version": 3
   }
  },
  "orig_nbformat": 2,
  "file_extension": ".py",
  "mimetype": "text/x-python",
  "name": "python",
  "npconvert_exporter": "python",
  "pygments_lexer": "ipython3",
  "version": 3
 },
 "cells": [
  {
   "cell_type": "markdown",
   "execution_count": null,
   "metadata": {},
   "outputs": [],
   "source": [
    "# Looking at ETH Distribution"
   ]
  },
  {
   "cell_type": "markdown",
   "execution_count": null,
   "metadata": {},
   "outputs": [],
   "source": [
    "sources: \n",
    "- \\[1\\] [Ethereum blog: Launching the Ether Sale by Vitalik](https://blog.ethereum.org/2014/07/22/launching-the-ether-sale/)\n",
    "- \\[2\\] [Ethereum AMA](https://www.reddit.com/r/IAmA/comments/2bjmgb/hi_we_are_the_ethereum_project_team_ask_us/)\n",
    "- \\[3\\] [AVSA Tweet about contributors](https://twitter.com/avsa/status/1210587580741439489)\n",
    "    "
   ]
  },
  {
   "cell_type": "markdown",
   "execution_count": null,
   "metadata": {},
   "outputs": [],
   "source": [
    "### ICO Details \\[1\\]:\n",
    "- tranches:\n",
    "    - 0-14 days: 2000 ETH per BTC\n",
    "    - linear decline: 1337 ETH per BTC\n",
    "- lasts 42 days\n",
    "- annual issuance is 0.26x initial ETH sold\n",
    "- two endowment pools (each 0.099x initial ETH sold):\n",
    "    - early contributors to the project\n",
    "    - long-term endowment to non-profit foundation\n",
    "- reserved right to use up to 5000 BTC from pre-sale while pre-sale is running to ramp development\n",
    "- exodus 3-4 multisig address: `36PrZ1KHYMpqSyAQXSG8VwbUiq2EogxLo`\n"
   ]
  },
  {
   "cell_type": "markdown",
   "execution_count": null,
   "metadata": {},
   "outputs": [],
   "source": [
    "## Pre-mine Analysis"
   ]
  },
  {
   "cell_type": "markdown",
   "execution_count": null,
   "metadata": {},
   "outputs": [],
   "source": [
    "### Open contributions"
   ]
  },
  {
   "cell_type": "markdown",
   "execution_count": null,
   "metadata": {},
   "outputs": [],
   "source": [
    "### Contributor Allocations"
   ]
  },
  {
   "cell_type": "markdown",
   "execution_count": null,
   "metadata": {},
   "outputs": [],
   "source": [
    "source: \\[3\\]\n",
    "- Vitalik: Ethereum \n",
    "- Hoskinson: Classic\n",
    "- Di'orio: Jaxx\n",
    "- Mihai: Akasha\n",
    "- Gavin: Polkadot\n",
    "- Lubin: Consensys\n",
    "- Jeff: Not involved anymore\n",
    "- Amir: seems to be an angel investor now?\n",
    "- Koblitz: cryptography professor (same as before)\n",
    "- Ralph Merkle: same as above\n",
    "- Stephan Tual: Slockit, Atlas Neue\n",
    "- Taylor: volunteers for swarm team\n",
    "- Jeremy Wood: Cardano\n",
    "- Mathias: Braveno (cryptoexchange)\n",
    "- Ryan: Dash\n",
    "- Fierro: Mimir (lab building blockchain apps?)\n",
    "- Stott: couldn’t find\n",
    "- Meikle: Ethereum\n",
    "- Colby: vDice\n",
    "- Sureanu: Akasha\n",
    "- Hidskes: couldnt find\n",
    "- Mohan: Themys (blockchain risk assessment?)\n",
    "- Houwu Chen: seems to be a researcher still?\n",
    "- Nguyen: couldn’t find. There’s a \"Forbes under 30” with his name, same guy?\n",
    "- Wilding: L4, a web3 studio that built ETHGlobal\n",
    "- Gluck: Riot games\n",
    "- Chow: still at ethereum I believe?"
   ]
  },
  {
   "cell_type": "markdown",
   "execution_count": null,
   "metadata": {},
   "outputs": [],
   "source": [
    "### Summary"
   ]
  },
  {
   "cell_type": "code",
   "execution_count": null,
   "metadata": {},
   "outputs": [],
   "source": []
  }
 ]
}