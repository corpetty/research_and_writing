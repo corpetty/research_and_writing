{
 "nbformat": 4,
 "nbformat_minor": 2,
 "metadata": {
  "language_info": {
   "name": "python",
   "codemirror_mode": {
    "name": "ipython",
    "version": 3
   },
   "version": "3.8.1"
  },
  "orig_nbformat": 2,
  "file_extension": ".py",
  "mimetype": "text/x-python",
  "name": "python",
  "npconvert_exporter": "python",
  "pygments_lexer": "ipython3",
  "version": 3
 },
 "cells": [
  {
   "cell_type": "code",
   "execution_count": 55,
   "metadata": {},
   "outputs": [],
   "source": [
    "!export WEB3_INFURA_PROJECT_ID=ad89ee0df87340bba88c0608c5cf2fc2"
   ]
  },
  {
   "cell_type": "code",
   "execution_count": 64,
   "metadata": {},
   "outputs": [],
   "source": [
    "import pandas as pd\n",
    "import json\n",
    "import requests\n",
    "from web3 import Web3\n",
    "w3 = Web3(Web3.WebsocketProvider(\"wss://mainnet.infura.io/ws/v3/ad89ee0df87340bba88c0608c5cf2fc2\"))"
   ]
  },
  {
   "cell_type": "code",
   "execution_count": 65,
   "metadata": {},
   "outputs": [
    {
     "data": {
      "text/plain": "9746121377372246792"
     },
     "execution_count": 65,
     "metadata": {},
     "output_type": "execute_result"
    }
   ],
   "source": [
    "w3.eth.getBalance(w3.toChecksumAddress('0x5abfec25f74cd88437631a7731906932776356f9'))"
   ]
  },
  {
   "cell_type": "markdown",
   "execution_count": null,
   "metadata": {},
   "outputs": [],
   "source": [
    "# Looking at ETH Distribution"
   ]
  },
  {
   "cell_type": "markdown",
   "execution_count": null,
   "metadata": {},
   "outputs": [],
   "source": [
    "sources: \n",
    "- \\[1\\] [Ethereum blog: Launching the Ether Sale by Vitalik](https://blog.ethereum.org/2014/07/22/launching-the-ether-sale/)\n",
    "- \\[2\\] [Ethereum AMA](https://www.reddit.com/r/IAmA/comments/2bjmgb/hi_we_are_the_ethereum_project_team_ask_us/)\n",
    "- \\[3\\] [AVSA Tweet about contributors](https://twitter.com/avsa/status/1210587580741439489)\n",
    "\n",
    "APIs:\n",
    "- [Infura](https://infura.io)\n",
    "- [ENS subgraph](https://thegraph.com/explorer/subgraph/ensdomains/ens?query=Example%20query)\n",
    "    "
   ]
  },
  {
   "cell_type": "markdown",
   "execution_count": null,
   "metadata": {},
   "outputs": [],
   "source": [
    "### ICO Details \\[1\\]:\n",
    "- tranches:\n",
    "    - 0-14 days: 2000 ETH per BTC\n",
    "    - linear decline: 1337 ETH per BTC\n",
    "- lasts 42 days\n",
    "- annual issuance is 0.26x initial ETH sold\n",
    "- two endowment pools (each 0.099x initial ETH sold):\n",
    "    - early contributors to the project\n",
    "    - long-term endowment to non-profit foundation\n",
    "- reserved right to use up to 5000 BTC from pre-sale while pre-sale is running to ramp development\n",
    "- exodus 3-4 multisig address: `36PrZ1KHYMpqSyAQXSG8VwbUiq2EogxLo`\n"
   ]
  },
  {
   "cell_type": "code",
   "execution_count": null,
   "metadata": {},
   "outputs": [],
   "source": []
  },
  {
   "cell_type": "markdown",
   "execution_count": null,
   "metadata": {},
   "outputs": [],
   "source": [
    "## Pre-mine Analysis"
   ]
  },
  {
   "cell_type": "code",
   "execution_count": 21,
   "metadata": {},
   "outputs": [
    {
     "data": {
      "text/html": "<div>\n<style scoped>\n    .dataframe tbody tr th:only-of-type {\n        vertical-align: middle;\n    }\n\n    .dataframe tbody tr th {\n        vertical-align: top;\n    }\n\n    .dataframe thead th {\n        text-align: right;\n    }\n</style>\n<table border=\"1\" class=\"dataframe\">\n  <thead>\n    <tr style=\"text-align: right;\">\n      <th></th>\n      <th>address</th>\n      <th>balance</th>\n    </tr>\n  </thead>\n  <tbody>\n    <tr>\n      <th>6698</th>\n      <td>0x5abfec25f74cd88437631a7731906932776356f9</td>\n      <td>1.190148e+07</td>\n    </tr>\n    <tr>\n      <th>2197</th>\n      <td>0x1937c5c515057553ccbd46d5866455ce66290284</td>\n      <td>1.000000e+06</td>\n    </tr>\n    <tr>\n      <th>7364</th>\n      <td>0x11172b278ddd44eea2fdf4cb1d16962391c453d9</td>\n      <td>9.359000e+05</td>\n    </tr>\n    <tr>\n      <th>5414</th>\n      <td>0xff7843c7010aa7e61519b762dfe49124a76b0e4e</td>\n      <td>9.335800e+05</td>\n    </tr>\n    <tr>\n      <th>164</th>\n      <td>0x5281733473e00d87f11e9955e589b59f4ac28e7a</td>\n      <td>6.603600e+05</td>\n    </tr>\n    <tr>\n      <th>...</th>\n      <td>...</td>\n      <td>...</td>\n    </tr>\n    <tr>\n      <th>8166</th>\n      <td>0xf2c2904e9fa664a11ee25656d8fd2cc0d9a522a0</td>\n      <td>1.337000e+01</td>\n    </tr>\n    <tr>\n      <th>1399</th>\n      <td>0x7641f7d26a86cddb2be13081810e01c9c83c4b20</td>\n      <td>1.337000e+01</td>\n    </tr>\n    <tr>\n      <th>3177</th>\n      <td>0x33581cee233088c0860d944e0cf1ceabb8261c2e</td>\n      <td>1.337000e+01</td>\n    </tr>\n    <tr>\n      <th>4259</th>\n      <td>0x5ed3f1ebe2ae6756b5d8dc19cad02c419aa5778b</td>\n      <td>0.000000e+00</td>\n    </tr>\n    <tr>\n      <th>2858</th>\n      <td>0x00c40fe2095423509b9fd9b754323158af2310f3</td>\n      <td>0.000000e+00</td>\n    </tr>\n  </tbody>\n</table>\n<p>8893 rows × 2 columns</p>\n</div>",
      "text/plain": "                                         address       balance\n6698  0x5abfec25f74cd88437631a7731906932776356f9  1.190148e+07\n2197  0x1937c5c515057553ccbd46d5866455ce66290284  1.000000e+06\n7364  0x11172b278ddd44eea2fdf4cb1d16962391c453d9  9.359000e+05\n5414  0xff7843c7010aa7e61519b762dfe49124a76b0e4e  9.335800e+05\n164   0x5281733473e00d87f11e9955e589b59f4ac28e7a  6.603600e+05\n...                                          ...           ...\n8166  0xf2c2904e9fa664a11ee25656d8fd2cc0d9a522a0  1.337000e+01\n1399  0x7641f7d26a86cddb2be13081810e01c9c83c4b20  1.337000e+01\n3177  0x33581cee233088c0860d944e0cf1ceabb8261c2e  1.337000e+01\n4259  0x5ed3f1ebe2ae6756b5d8dc19cad02c419aa5778b  0.000000e+00\n2858  0x00c40fe2095423509b9fd9b754323158af2310f3  0.000000e+00\n\n[8893 rows x 2 columns]"
     },
     "execution_count": 21,
     "metadata": {},
     "output_type": "execute_result"
    }
   ],
   "source": [
    "# Bring in Mainnet Genesis file\n",
    "with open('./eth_distribution/frontier.json', 'r') as f:\n",
    "    genesis_json = json.load(f)\n",
    "genesis_txns = genesis_json['alloc']\n",
    "genesis_txns = [{\"address\": key, \"balance\": value['balance']} for key, value in genesis_txns.items()]\n",
    "genesis_txns = pd.DataFrame(genesis_txns)\n",
    "genesis_txns['balance'] = genesis_txns['balance'].apply(float) / 1e18\n",
    "genesis_txns['address'] = '0x' + genesis_txns['address']\n",
    "genesis_txns.sort_values(by='balance', ascending=False)"
   ]
  },
  {
   "cell_type": "code",
   "execution_count": 52,
   "metadata": {},
   "outputs": [
    {
     "name": "stdout",
     "output_type": "stream",
     "text": "statusweb.eth\n"
    }
   ],
   "source": [
    "headers = {}\n",
    "# The GraphQL query (with a few aditional bits included) itself defined as a multi-line string.       \n",
    "query = \"\"\"\n",
    "{\n",
    "  domains(where: {\n",
    "    owner: \"%s\"\n",
    "  }){\n",
    "    id\n",
    "    name\n",
    "    labelName\n",
    "    labelhash\n",
    "  }\n",
    "}\n",
    "\"\"\"\n",
    "\n",
    "def run_query(query, address): # A simple function to use requests.post to make the API call. Note the json= section.\n",
    "    request = requests.post('https://api.thegraph.com/subgraphs/name/ensdomains/ens', json={'query': query % (address)}, headers=headers)\n",
    "    if request.status_code == 200:\n",
    "        return request.json()\n",
    "    else:\n",
    "        raise Exception(\"Query failed to run by returning code of {}. {}\".format(request.status_code, query))\n",
    "\n",
    "def pull_ens_name(result):\n",
    "    if len(result['data']['domains']) != 0:\n",
    "        return result['data']['domains'][0]['name']\n",
    "    else:\n",
    "        return ''\n",
    "\n",
    "def query_and_pull(address):\n",
    "    return pull_ens_name(run_query(query, address))\n",
    "\n",
    "result = query_and_pull('0xb913626032140a86c77d1fdde4f611a00d589c55') # Execute the query\n",
    "# result = query_and_pull('0x5abfec25f74cd88437631a7731906932776356f9')\n",
    "print(result)"
   ]
  },
  {
   "cell_type": "code",
   "execution_count": 48,
   "metadata": {},
   "outputs": [
    {
     "data": {
      "text/html": "<div>\n<style scoped>\n    .dataframe tbody tr th:only-of-type {\n        vertical-align: middle;\n    }\n\n    .dataframe tbody tr th {\n        vertical-align: top;\n    }\n\n    .dataframe thead th {\n        text-align: right;\n    }\n</style>\n<table border=\"1\" class=\"dataframe\">\n  <thead>\n    <tr style=\"text-align: right;\">\n      <th></th>\n      <th>address</th>\n      <th>balance</th>\n      <th>ens</th>\n    </tr>\n  </thead>\n  <tbody>\n    <tr>\n      <th>164</th>\n      <td>0x5281733473e00d87f11e9955e589b59f4ac28e7a</td>\n      <td>660360.0</td>\n      <td></td>\n    </tr>\n    <tr>\n      <th>171</th>\n      <td>0x3a72d635aadeee4382349db98a1813a4cfeb3df1</td>\n      <td>200000.0</td>\n      <td></td>\n    </tr>\n    <tr>\n      <th>195</th>\n      <td>0xb8cc0f060aad92d4eb8b36b3b95ce9e90eb383d7</td>\n      <td>150000.0</td>\n      <td></td>\n    </tr>\n    <tr>\n      <th>183</th>\n      <td>0x5816c2687777b6d7d2a2432d59a41fa059e3a406</td>\n      <td>133700.0</td>\n      <td></td>\n    </tr>\n    <tr>\n      <th>112</th>\n      <td>0xfda3042819af3e662900e1b92b4358eda6e92590</td>\n      <td>118200.0</td>\n      <td></td>\n    </tr>\n    <tr>\n      <th>...</th>\n      <td>...</td>\n      <td>...</td>\n      <td>...</td>\n    </tr>\n    <tr>\n      <th>140</th>\n      <td>0x550aadae1221b07afea39fba2ed62e05e5b7b5f9</td>\n      <td>20.0</td>\n      <td></td>\n    </tr>\n    <tr>\n      <th>121</th>\n      <td>0x9eb281c32719c40fdb3e216db0f37fbc73a026b7</td>\n      <td>20.0</td>\n      <td></td>\n    </tr>\n    <tr>\n      <th>155</th>\n      <td>0x873e49135c3391991060290aa7f6ccb8f85a78db</td>\n      <td>20.0</td>\n      <td></td>\n    </tr>\n    <tr>\n      <th>110</th>\n      <td>0x9af5c9894c33e42c2c518e3ac670ea9505d1b53e</td>\n      <td>18.2</td>\n      <td></td>\n    </tr>\n    <tr>\n      <th>76</th>\n      <td>0x5cbd8daf27ddf704cdd0d909a789ba36ed4f37b2</td>\n      <td>13.4</td>\n      <td></td>\n    </tr>\n  </tbody>\n</table>\n<p>200 rows × 3 columns</p>\n</div>",
      "text/plain": "                                        address   balance ens\n164  0x5281733473e00d87f11e9955e589b59f4ac28e7a  660360.0    \n171  0x3a72d635aadeee4382349db98a1813a4cfeb3df1  200000.0    \n195  0xb8cc0f060aad92d4eb8b36b3b95ce9e90eb383d7  150000.0    \n183  0x5816c2687777b6d7d2a2432d59a41fa059e3a406  133700.0    \n112  0xfda3042819af3e662900e1b92b4358eda6e92590  118200.0    \n..                                          ...       ...  ..\n140  0x550aadae1221b07afea39fba2ed62e05e5b7b5f9      20.0    \n121  0x9eb281c32719c40fdb3e216db0f37fbc73a026b7      20.0    \n155  0x873e49135c3391991060290aa7f6ccb8f85a78db      20.0    \n110  0x9af5c9894c33e42c2c518e3ac670ea9505d1b53e      18.2    \n76   0x5cbd8daf27ddf704cdd0d909a789ba36ed4f37b2      13.4    \n\n[200 rows x 3 columns]"
     },
     "execution_count": 48,
     "metadata": {},
     "output_type": "execute_result"
    }
   ],
   "source": [
    "first_200 = genesis_txns.iloc[:200,:].sort_values(by=\"balance\", ascending=False).copy()\n",
    "first_200['ens'] = first_200.address.apply(query_and_pull)\n",
    "first_200"
   ]
  },
  {
   "cell_type": "code",
   "execution_count": 50,
   "metadata": {},
   "outputs": [
    {
     "data": {
      "text/html": "<div>\n<style scoped>\n    .dataframe tbody tr th:only-of-type {\n        vertical-align: middle;\n    }\n\n    .dataframe tbody tr th {\n        vertical-align: top;\n    }\n\n    .dataframe thead th {\n        text-align: right;\n    }\n</style>\n<table border=\"1\" class=\"dataframe\">\n  <thead>\n    <tr style=\"text-align: right;\">\n      <th></th>\n      <th>address</th>\n      <th>balance</th>\n      <th>ens</th>\n    </tr>\n  </thead>\n  <tbody>\n  </tbody>\n</table>\n</div>",
      "text/plain": "Empty DataFrame\nColumns: [address, balance, ens]\nIndex: []"
     },
     "execution_count": 50,
     "metadata": {},
     "output_type": "execute_result"
    }
   ],
   "source": [
    "first_200[first_200.ens != '']"
   ]
  },
  {
   "cell_type": "code",
   "execution_count": 66,
   "metadata": {},
   "outputs": [],
   "source": [
    "def pull_current_balance(address):\n",
    "    return float(w3.eth.getBalance(w3.toChecksumAddress(address))) / 1e18\n"
   ]
  },
  {
   "cell_type": "code",
   "execution_count": 68,
   "metadata": {},
   "outputs": [
    {
     "data": {
      "text/plain": "0.99895"
     },
     "execution_count": 68,
     "metadata": {},
     "output_type": "execute_result"
    }
   ],
   "source": [
    "pull_current_balance('0x3a72d635aadeee4382349db98a1813a4cfeb3df1')"
   ]
  },
  {
   "cell_type": "code",
   "execution_count": 71,
   "metadata": {},
   "outputs": [],
   "source": [
    "genesis_txns['current_balance'] = genesis_txns['address'].apply(pull_current_balance)"
   ]
  },
  {
   "cell_type": "code",
   "execution_count": 73,
   "metadata": {},
   "outputs": [],
   "source": [
    "genesis_txns['perc_remains'] = genesis_txns['current_balance'] / genesis_txns['balance'] * 100"
   ]
  },
  {
   "cell_type": "code",
   "execution_count": 74,
   "metadata": {},
   "outputs": [
    {
     "data": {
      "text/html": "<div>\n<style scoped>\n    .dataframe tbody tr th:only-of-type {\n        vertical-align: middle;\n    }\n\n    .dataframe tbody tr th {\n        vertical-align: top;\n    }\n\n    .dataframe thead th {\n        text-align: right;\n    }\n</style>\n<table border=\"1\" class=\"dataframe\">\n  <thead>\n    <tr style=\"text-align: right;\">\n      <th></th>\n      <th>address</th>\n      <th>balance</th>\n      <th>current_balance</th>\n      <th>perc_remains</th>\n    </tr>\n  </thead>\n  <tbody>\n    <tr>\n      <th>0</th>\n      <td>0x3282791d6fd713f1e94f4bfd565eaa78b3a0599d</td>\n      <td>1337.000</td>\n      <td>1337.000000</td>\n      <td>100.000000</td>\n    </tr>\n    <tr>\n      <th>1</th>\n      <td>0x17961d633bcf20a7b029a7d94b7df4da2ec5427f</td>\n      <td>229.427</td>\n      <td>0.000000</td>\n      <td>0.000000</td>\n    </tr>\n    <tr>\n      <th>2</th>\n      <td>0x493a67fe23decc63b10dda75f3287695a81bd5ab</td>\n      <td>880.000</td>\n      <td>16.719346</td>\n      <td>1.899926</td>\n    </tr>\n    <tr>\n      <th>3</th>\n      <td>0x01fb8ec12425a04f813e46c54c05748ca6b29aa9</td>\n      <td>259.800</td>\n      <td>0.005233</td>\n      <td>0.002014</td>\n    </tr>\n    <tr>\n      <th>4</th>\n      <td>0xd2a030ac8952325f9e1db378a71485a24e1b07b2</td>\n      <td>2000.000</td>\n      <td>0.000000</td>\n      <td>0.000000</td>\n    </tr>\n  </tbody>\n</table>\n</div>",
      "text/plain": "                                      address   balance  current_balance  \\\n0  0x3282791d6fd713f1e94f4bfd565eaa78b3a0599d  1337.000      1337.000000   \n1  0x17961d633bcf20a7b029a7d94b7df4da2ec5427f   229.427         0.000000   \n2  0x493a67fe23decc63b10dda75f3287695a81bd5ab   880.000        16.719346   \n3  0x01fb8ec12425a04f813e46c54c05748ca6b29aa9   259.800         0.005233   \n4  0xd2a030ac8952325f9e1db378a71485a24e1b07b2  2000.000         0.000000   \n\n   perc_remains  \n0    100.000000  \n1      0.000000  \n2      1.899926  \n3      0.002014  \n4      0.000000  "
     },
     "execution_count": 74,
     "metadata": {},
     "output_type": "execute_result"
    }
   ],
   "source": [
    "genesis_txns.head()"
   ]
  },
  {
   "cell_type": "code",
   "execution_count": 79,
   "metadata": {},
   "outputs": [],
   "source": [
    "genesis_txns.to_pickle('genesis_txns.p')\n",
    "genesis_txns.to_csv('genesis_txns.csv')"
   ]
  },
  {
   "cell_type": "code",
   "execution_count": 76,
   "metadata": {},
   "outputs": [],
   "source": [
    "genesis_txns['ens'] = genesis_txns.address.apply(query_and_pull)"
   ]
  },
  {
   "cell_type": "code",
   "execution_count": 82,
   "metadata": {},
   "outputs": [
    {
     "data": {
      "text/html": "<div>\n<style scoped>\n    .dataframe tbody tr th:only-of-type {\n        vertical-align: middle;\n    }\n\n    .dataframe tbody tr th {\n        vertical-align: top;\n    }\n\n    .dataframe thead th {\n        text-align: right;\n    }\n</style>\n<table border=\"1\" class=\"dataframe\">\n  <thead>\n    <tr style=\"text-align: right;\">\n      <th></th>\n      <th>address</th>\n      <th>balance</th>\n      <th>current_balance</th>\n      <th>perc_remains</th>\n      <th>ens</th>\n    </tr>\n  </thead>\n  <tbody>\n    <tr>\n      <th>2763</th>\n      <td>0x1b3cb81e51011b549d78bf720b0d924ac763a7c2</td>\n      <td>560000.0</td>\n      <td>560000.000030</td>\n      <td>100.000000</td>\n      <td></td>\n    </tr>\n    <tr>\n      <th>5730</th>\n      <td>0x2b6ed29a95753c3ad948348e3e7b1a251080ffb9</td>\n      <td>250000.0</td>\n      <td>250000.007046</td>\n      <td>100.000003</td>\n      <td></td>\n    </tr>\n    <tr>\n      <th>6669</th>\n      <td>0x51f9c432a4e59ac86282d6adab4c2eb8919160eb</td>\n      <td>530000.0</td>\n      <td>218899.998330</td>\n      <td>41.301886</td>\n      <td></td>\n    </tr>\n    <tr>\n      <th>872</th>\n      <td>0x7f3a1e45f67e92c880e573b43379d71ee089db54</td>\n      <td>100000.0</td>\n      <td>100000.000010</td>\n      <td>100.000000</td>\n      <td></td>\n    </tr>\n    <tr>\n      <th>1071</th>\n      <td>0x8b505e2871f7deb7a63895208e8227dcaa1bff05</td>\n      <td>61216.6</td>\n      <td>61216.600000</td>\n      <td>100.000000</td>\n      <td></td>\n    </tr>\n    <tr>\n      <th>...</th>\n      <td>...</td>\n      <td>...</td>\n      <td>...</td>\n      <td>...</td>\n      <td>...</td>\n    </tr>\n    <tr>\n      <th>531</th>\n      <td>0x2efc4c647dac6acac35577ad221758fef6616faa</td>\n      <td>8000.0</td>\n      <td>0.000000</td>\n      <td>0.000000</td>\n      <td></td>\n    </tr>\n    <tr>\n      <th>3920</th>\n      <td>0x7517f16c28d132bb40e3ba36c6aef131c462da17</td>\n      <td>18.2</td>\n      <td>0.000000</td>\n      <td>0.000000</td>\n      <td></td>\n    </tr>\n    <tr>\n      <th>6542</th>\n      <td>0x21546914dfd3af2add41b0ff3e83ffda7414e1e0</td>\n      <td>5969.1</td>\n      <td>0.000000</td>\n      <td>0.000000</td>\n      <td></td>\n    </tr>\n    <tr>\n      <th>6544</th>\n      <td>0x6fd98e563d12ce0fd60f4f1f850ae396a9823c02</td>\n      <td>1261.0</td>\n      <td>0.000000</td>\n      <td>0.000000</td>\n      <td></td>\n    </tr>\n    <tr>\n      <th>5278</th>\n      <td>0x898c72dd736558ef9e4be9fdc34fef54d7fc7e08</td>\n      <td>1000.0</td>\n      <td>0.000000</td>\n      <td>0.000000</td>\n      <td></td>\n    </tr>\n  </tbody>\n</table>\n<p>8893 rows × 5 columns</p>\n</div>",
      "text/plain": "                                         address   balance  current_balance  \\\n2763  0x1b3cb81e51011b549d78bf720b0d924ac763a7c2  560000.0    560000.000030   \n5730  0x2b6ed29a95753c3ad948348e3e7b1a251080ffb9  250000.0    250000.007046   \n6669  0x51f9c432a4e59ac86282d6adab4c2eb8919160eb  530000.0    218899.998330   \n872   0x7f3a1e45f67e92c880e573b43379d71ee089db54  100000.0    100000.000010   \n1071  0x8b505e2871f7deb7a63895208e8227dcaa1bff05   61216.6     61216.600000   \n...                                          ...       ...              ...   \n531   0x2efc4c647dac6acac35577ad221758fef6616faa    8000.0         0.000000   \n3920  0x7517f16c28d132bb40e3ba36c6aef131c462da17      18.2         0.000000   \n6542  0x21546914dfd3af2add41b0ff3e83ffda7414e1e0    5969.1         0.000000   \n6544  0x6fd98e563d12ce0fd60f4f1f850ae396a9823c02    1261.0         0.000000   \n5278  0x898c72dd736558ef9e4be9fdc34fef54d7fc7e08    1000.0         0.000000   \n\n      perc_remains ens  \n2763    100.000000      \n5730    100.000003      \n6669     41.301886      \n872     100.000000      \n1071    100.000000      \n...            ...  ..  \n531       0.000000      \n3920      0.000000      \n6542      0.000000      \n6544      0.000000      \n5278      0.000000      \n\n[8893 rows x 5 columns]"
     },
     "execution_count": 82,
     "metadata": {},
     "output_type": "execute_result"
    }
   ],
   "source": [
    "genesis_txns.sort_values(by=\"current_balance\", ascending=False)"
   ]
  },
  {
   "cell_type": "markdown",
   "execution_count": null,
   "metadata": {},
   "outputs": [],
   "source": [
    "### Open contributions"
   ]
  },
  {
   "cell_type": "markdown",
   "execution_count": null,
   "metadata": {},
   "outputs": [],
   "source": [
    "### Contributor Allocations"
   ]
  },
  {
   "cell_type": "markdown",
   "execution_count": null,
   "metadata": {},
   "outputs": [],
   "source": [
    "source: \\[3\\]\n",
    "- Vitalik: Ethereum \n",
    "- Hoskinson: Classic\n",
    "- Di'orio: Jaxx\n",
    "- Mihai: Akasha\n",
    "- Gavin: Polkadot\n",
    "- Lubin: Consensys\n",
    "- Jeff: Not involved anymore\n",
    "- Amir: seems to be an angel investor now?\n",
    "- Koblitz: cryptography professor (same as before)\n",
    "- Ralph Merkle: same as above\n",
    "- Stephan Tual: Slockit, Atlas Neue\n",
    "- Taylor: volunteers for swarm team\n",
    "- Jeremy Wood: Cardano\n",
    "- Mathias: Braveno (cryptoexchange)\n",
    "- Ryan: Dash\n",
    "- Fierro: Mimir (lab building blockchain apps?)\n",
    "- Stott: couldn’t find\n",
    "- Meikle: Ethereum\n",
    "- Colby: vDice\n",
    "- Sureanu: Akasha\n",
    "- Hidskes: couldnt find\n",
    "- Mohan: Themys (blockchain risk assessment?)\n",
    "- Houwu Chen: seems to be a researcher still?\n",
    "- Nguyen: couldn’t find. There’s a \"Forbes under 30” with his name, same guy?\n",
    "- Wilding: L4, a web3 studio that built ETHGlobal\n",
    "- Gluck: Riot games\n",
    "- Chow: still at ethereum I believe?"
   ]
  },
  {
   "cell_type": "markdown",
   "execution_count": null,
   "metadata": {},
   "outputs": [],
   "source": [
    "### Summary"
   ]
  },
  {
   "cell_type": "code",
   "execution_count": null,
   "metadata": {},
   "outputs": [],
   "source": []
  }
 ]
}