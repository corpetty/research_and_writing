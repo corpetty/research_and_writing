{
 "nbformat": 4,
 "nbformat_minor": 2,
 "metadata": {
  "language_info": {
   "name": "python",
   "codemirror_mode": {
    "name": "ipython",
    "version": 3
   },
   "version": "3.8.1"
  },
  "orig_nbformat": 2,
  "file_extension": ".py",
  "mimetype": "text/x-python",
  "name": "python",
  "npconvert_exporter": "python",
  "pygments_lexer": "ipython3",
  "version": 3
 },
 "cells": [
  {
   "cell_type": "code",
   "execution_count": 7,
   "metadata": {},
   "outputs": [],
   "source": [
    "import pandas as pd\n",
    "import json\n",
    "import requests"
   ]
  },
  {
   "cell_type": "markdown",
   "execution_count": null,
   "metadata": {},
   "outputs": [],
   "source": [
    "# Looking at ETH Distribution"
   ]
  },
  {
   "cell_type": "markdown",
   "execution_count": null,
   "metadata": {},
   "outputs": [],
   "source": [
    "sources: \n",
    "- \\[1\\] [Ethereum blog: Launching the Ether Sale by Vitalik](https://blog.ethereum.org/2014/07/22/launching-the-ether-sale/)\n",
    "- \\[2\\] [Ethereum AMA](https://www.reddit.com/r/IAmA/comments/2bjmgb/hi_we_are_the_ethereum_project_team_ask_us/)\n",
    "- \\[3\\] [AVSA Tweet about contributors](https://twitter.com/avsa/status/1210587580741439489)\n",
    "    "
   ]
  },
  {
   "cell_type": "markdown",
   "execution_count": null,
   "metadata": {},
   "outputs": [],
   "source": [
    "### ICO Details \\[1\\]:\n",
    "- tranches:\n",
    "    - 0-14 days: 2000 ETH per BTC\n",
    "    - linear decline: 1337 ETH per BTC\n",
    "- lasts 42 days\n",
    "- annual issuance is 0.26x initial ETH sold\n",
    "- two endowment pools (each 0.099x initial ETH sold):\n",
    "    - early contributors to the project\n",
    "    - long-term endowment to non-profit foundation\n",
    "- reserved right to use up to 5000 BTC from pre-sale while pre-sale is running to ramp development\n",
    "- exodus 3-4 multisig address: `36PrZ1KHYMpqSyAQXSG8VwbUiq2EogxLo`\n"
   ]
  },
  {
   "cell_type": "code",
   "execution_count": null,
   "metadata": {},
   "outputs": [],
   "source": []
  },
  {
   "cell_type": "markdown",
   "execution_count": null,
   "metadata": {},
   "outputs": [],
   "source": [
    "## Pre-mine Analysis"
   ]
  },
  {
   "cell_type": "code",
   "execution_count": 21,
   "metadata": {},
   "outputs": [
    {
     "data": {
      "text/html": "<div>\n<style scoped>\n    .dataframe tbody tr th:only-of-type {\n        vertical-align: middle;\n    }\n\n    .dataframe tbody tr th {\n        vertical-align: top;\n    }\n\n    .dataframe thead th {\n        text-align: right;\n    }\n</style>\n<table border=\"1\" class=\"dataframe\">\n  <thead>\n    <tr style=\"text-align: right;\">\n      <th></th>\n      <th>address</th>\n      <th>balance</th>\n    </tr>\n  </thead>\n  <tbody>\n    <tr>\n      <th>6698</th>\n      <td>0x5abfec25f74cd88437631a7731906932776356f9</td>\n      <td>1.190148e+07</td>\n    </tr>\n    <tr>\n      <th>2197</th>\n      <td>0x1937c5c515057553ccbd46d5866455ce66290284</td>\n      <td>1.000000e+06</td>\n    </tr>\n    <tr>\n      <th>7364</th>\n      <td>0x11172b278ddd44eea2fdf4cb1d16962391c453d9</td>\n      <td>9.359000e+05</td>\n    </tr>\n    <tr>\n      <th>5414</th>\n      <td>0xff7843c7010aa7e61519b762dfe49124a76b0e4e</td>\n      <td>9.335800e+05</td>\n    </tr>\n    <tr>\n      <th>164</th>\n      <td>0x5281733473e00d87f11e9955e589b59f4ac28e7a</td>\n      <td>6.603600e+05</td>\n    </tr>\n    <tr>\n      <th>...</th>\n      <td>...</td>\n      <td>...</td>\n    </tr>\n    <tr>\n      <th>8166</th>\n      <td>0xf2c2904e9fa664a11ee25656d8fd2cc0d9a522a0</td>\n      <td>1.337000e+01</td>\n    </tr>\n    <tr>\n      <th>1399</th>\n      <td>0x7641f7d26a86cddb2be13081810e01c9c83c4b20</td>\n      <td>1.337000e+01</td>\n    </tr>\n    <tr>\n      <th>3177</th>\n      <td>0x33581cee233088c0860d944e0cf1ceabb8261c2e</td>\n      <td>1.337000e+01</td>\n    </tr>\n    <tr>\n      <th>4259</th>\n      <td>0x5ed3f1ebe2ae6756b5d8dc19cad02c419aa5778b</td>\n      <td>0.000000e+00</td>\n    </tr>\n    <tr>\n      <th>2858</th>\n      <td>0x00c40fe2095423509b9fd9b754323158af2310f3</td>\n      <td>0.000000e+00</td>\n    </tr>\n  </tbody>\n</table>\n<p>8893 rows × 2 columns</p>\n</div>",
      "text/plain": "                                         address       balance\n6698  0x5abfec25f74cd88437631a7731906932776356f9  1.190148e+07\n2197  0x1937c5c515057553ccbd46d5866455ce66290284  1.000000e+06\n7364  0x11172b278ddd44eea2fdf4cb1d16962391c453d9  9.359000e+05\n5414  0xff7843c7010aa7e61519b762dfe49124a76b0e4e  9.335800e+05\n164   0x5281733473e00d87f11e9955e589b59f4ac28e7a  6.603600e+05\n...                                          ...           ...\n8166  0xf2c2904e9fa664a11ee25656d8fd2cc0d9a522a0  1.337000e+01\n1399  0x7641f7d26a86cddb2be13081810e01c9c83c4b20  1.337000e+01\n3177  0x33581cee233088c0860d944e0cf1ceabb8261c2e  1.337000e+01\n4259  0x5ed3f1ebe2ae6756b5d8dc19cad02c419aa5778b  0.000000e+00\n2858  0x00c40fe2095423509b9fd9b754323158af2310f3  0.000000e+00\n\n[8893 rows x 2 columns]"
     },
     "execution_count": 21,
     "metadata": {},
     "output_type": "execute_result"
    }
   ],
   "source": [
    "# Bring in Mainnet Genesis file\n",
    "with open('./eth_distribution/frontier.json', 'r') as f:\n",
    "    genesis_json = json.load(f)\n",
    "genesis_txns = genesis_json['alloc']\n",
    "genesis_txns = [{\"address\": key, \"balance\": value['balance']} for key, value in genesis_txns.items()]\n",
    "genesis_txns = pd.DataFrame(genesis_txns)\n",
    "genesis_txns['balance'] = genesis_txns['balance'].apply(float) / 1e18\n",
    "genesis_txns['address'] = '0x' + genesis_txns['address']\n",
    "genesis_txns.sort_values(by='balance', ascending=False)"
   ]
  },
  {
   "cell_type": "code",
   "execution_count": 44,
   "metadata": {},
   "outputs": [
    {
     "name": "stdout",
     "output_type": "stream",
     "text": "\n"
    }
   ],
   "source": [
    "headers = {}\n",
    "# The GraphQL query (with a few aditional bits included) itself defined as a multi-line string.       \n",
    "query = \"\"\"\n",
    "{\n",
    "  domains(where: {\n",
    "    owner: \"%s\"\n",
    "  }){\n",
    "    id\n",
    "    name\n",
    "    labelName\n",
    "    labelhash\n",
    "  }\n",
    "}\n",
    "\"\"\"\n",
    "\n",
    "def run_query(query, address): # A simple function to use requests.post to make the API call. Note the json= section.\n",
    "    request = requests.post('https://api.thegraph.com/subgraphs/name/ensdomains/ens', json={'query': query % (address)}, headers=headers)\n",
    "    if request.status_code == 200:\n",
    "        return request.json()\n",
    "    else:\n",
    "        raise Exception(\"Query failed to run by returning code of {}. {}\".format(request.status_code, query))\n",
    "\n",
    "def pull_ens_name(result):\n",
    "    if len(result['data']['domains']) != 0:\n",
    "        return result['data']['domains'][0]['name']\n",
    "    else:\n",
    "        return ''\n",
    "\n",
    "def query_and_pull(address):\n",
    "    return pull_ens_name(run_query(query, address))\n",
    "\n",
    "# result = query_and_pull('0xb913626032140a86c77d1fdde4f611a00d589c55') # Execute the query\n",
    "result = query_and_pull('0x5abfec25f74cd88437631a7731906932776356f9')\n",
    "print(result)"
   ]
  },
  {
   "cell_type": "code",
   "execution_count": 45,
   "metadata": {},
   "outputs": [
    {
     "data": {
      "text/plain": "14    \n24    \n23    \n32    \n34    \n48    \n49    \n42    \n44    \n33    \n10    \n13    \n37    \n36    \n41    \n40    \n4     \n30    \n8     \n46    \n21    \n0     \n29    \n17    \n22    \n45    \n39    \n19    \n5     \n2     \n47    \n15    \n7     \n12    \n20    \n25    \n38    \n16    \n3     \n1     \n35    \n31    \n27    \n28    \n43    \n26    \n18    \n9     \n6     \n11    \nName: address, dtype: object"
     },
     "execution_count": 45,
     "metadata": {},
     "output_type": "execute_result"
    }
   ],
   "source": [
    "genesis_txns.iloc[:50,:].sort_values(by=\"balance\", ascending=False).address.apply(query_and_pull)"
   ]
  },
  {
   "cell_type": "markdown",
   "execution_count": null,
   "metadata": {},
   "outputs": [],
   "source": [
    "### Open contributions"
   ]
  },
  {
   "cell_type": "markdown",
   "execution_count": null,
   "metadata": {},
   "outputs": [],
   "source": [
    "### Contributor Allocations"
   ]
  },
  {
   "cell_type": "markdown",
   "execution_count": null,
   "metadata": {},
   "outputs": [],
   "source": [
    "source: \\[3\\]\n",
    "- Vitalik: Ethereum \n",
    "- Hoskinson: Classic\n",
    "- Di'orio: Jaxx\n",
    "- Mihai: Akasha\n",
    "- Gavin: Polkadot\n",
    "- Lubin: Consensys\n",
    "- Jeff: Not involved anymore\n",
    "- Amir: seems to be an angel investor now?\n",
    "- Koblitz: cryptography professor (same as before)\n",
    "- Ralph Merkle: same as above\n",
    "- Stephan Tual: Slockit, Atlas Neue\n",
    "- Taylor: volunteers for swarm team\n",
    "- Jeremy Wood: Cardano\n",
    "- Mathias: Braveno (cryptoexchange)\n",
    "- Ryan: Dash\n",
    "- Fierro: Mimir (lab building blockchain apps?)\n",
    "- Stott: couldn’t find\n",
    "- Meikle: Ethereum\n",
    "- Colby: vDice\n",
    "- Sureanu: Akasha\n",
    "- Hidskes: couldnt find\n",
    "- Mohan: Themys (blockchain risk assessment?)\n",
    "- Houwu Chen: seems to be a researcher still?\n",
    "- Nguyen: couldn’t find. There’s a \"Forbes under 30” with his name, same guy?\n",
    "- Wilding: L4, a web3 studio that built ETHGlobal\n",
    "- Gluck: Riot games\n",
    "- Chow: still at ethereum I believe?"
   ]
  },
  {
   "cell_type": "markdown",
   "execution_count": null,
   "metadata": {},
   "outputs": [],
   "source": [
    "### Summary"
   ]
  },
  {
   "cell_type": "code",
   "execution_count": null,
   "metadata": {},
   "outputs": [],
   "source": []
  }
 ]
}